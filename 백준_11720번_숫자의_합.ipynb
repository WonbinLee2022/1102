{
  "nbformat": 4,
  "nbformat_minor": 0,
  "metadata": {
    "colab": {
      "provenance": [],
      "authorship_tag": "ABX9TyN3rwFIZOj+1wFokRmJOMH1",
      "include_colab_link": true
    },
    "kernelspec": {
      "name": "python3",
      "display_name": "Python 3"
    },
    "language_info": {
      "name": "python"
    }
  },
  "cells": [
    {
      "cell_type": "markdown",
      "metadata": {
        "id": "view-in-github",
        "colab_type": "text"
      },
      "source": [
        "<a href=\"https://colab.research.google.com/github/WonbinLee2022/1102/blob/main/%EB%B0%B1%EC%A4%80_11720%EB%B2%88_%EC%88%AB%EC%9E%90%EC%9D%98_%ED%95%A9.ipynb\" target=\"_parent\"><img src=\"https://colab.research.google.com/assets/colab-badge.svg\" alt=\"Open In Colab\"/></a>"
      ]
    },
    {
      "cell_type": "code",
      "execution_count": 6,
      "metadata": {
        "colab": {
          "base_uri": "https://localhost:8080/"
        },
        "id": "rLN9GsGWsCJA",
        "outputId": "eef9568b-0edf-4b27-cb39-bb993eaa24f8"
      },
      "outputs": [
        {
          "output_type": "stream",
          "name": "stdout",
          "text": [
            "5\n",
            "54321\n",
            "15\n"
          ]
        }
      ],
      "source": [
        "hap=0\n",
        "N=int(input())\n",
        "if N<1 or N>100:\n",
        "  N=int(input())\n",
        "n=input()\n",
        "for i in range(N):\n",
        "  hap=hap+int(n[i])\n",
        "print(hap)"
      ]
    },
    {
      "cell_type": "code",
      "source": [],
      "metadata": {
        "id": "qrwLQBlVuL3W"
      },
      "execution_count": null,
      "outputs": []
    }
  ]
}