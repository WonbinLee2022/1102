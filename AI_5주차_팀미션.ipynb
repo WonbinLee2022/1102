{
  "nbformat": 4,
  "nbformat_minor": 0,
  "metadata": {
    "colab": {
      "provenance": [],
      "authorship_tag": "ABX9TyNzp9zuTRDUpgRaLQS4oArK",
      "include_colab_link": true
    },
    "kernelspec": {
      "name": "python3",
      "display_name": "Python 3"
    },
    "language_info": {
      "name": "python"
    }
  },
  "cells": [
    {
      "cell_type": "markdown",
      "metadata": {
        "id": "view-in-github",
        "colab_type": "text"
      },
      "source": [
        "<a href=\"https://colab.research.google.com/github/WonbinLee2022/1102/blob/main/AI_5%EC%A3%BC%EC%B0%A8_%ED%8C%80%EB%AF%B8%EC%85%98.ipynb\" target=\"_parent\"><img src=\"https://colab.research.google.com/assets/colab-badge.svg\" alt=\"Open In Colab\"/></a>"
      ]
    },
    {
      "cell_type": "code",
      "execution_count": 19,
      "metadata": {
        "id": "fJFFCZrrX10k"
      },
      "outputs": [],
      "source": [
        "#문제 1번\n",
        "\n",
        "import torch\n",
        "import torch.nn as nn\n",
        "import torchvision.datasets as dset\n",
        "import torchvision.transforms as transform\n",
        "from torch.utils.data import DataLoader\n",
        "\n",
        "training_epochs = 15 # training 반복 횟수\n",
        "batch_size = 100\n",
        "\n",
        "root = './data'\n",
        "mnist_train = dset.MNIST (root=root, train=True, transform=transform, download=True)\n",
        "mnist_test = dset.MNIST (root=root, train=False, transform=transform, download=True)\n",
        "\n",
        "# data loader를 직접 구현해보자.\n",
        "train_loader = DataLoader(mnist_train, batch_size=batch_size, shuffle=True)\n",
        "test_loader = DataLoader(mnist_test, batch_size=batch_size, shuffle=False)  "
      ]
    },
    {
      "cell_type": "code",
      "source": [
        "#문제 2번\n",
        "\n",
        "device = torch.device('cuda' if torch.cuda.is_available() else 'cpu') # 문제 2번에서 변수명을 'deviec'로 작성해두셨는데 헷갈려서 'device'로 수정하였습니다!\n",
        "linear = torch.nn.Linear(784, 10, bias=True).to(device)\n",
        "torch.nn.init.normal_(linear.weight) # weight init"
      ],
      "metadata": {
        "colab": {
          "base_uri": "https://localhost:8080/"
        },
        "id": "-N8k6bF1a4aV",
        "outputId": "dd8bd04a-ad18-486e-ab6d-f0e22eb161ed"
      },
      "execution_count": 18,
      "outputs": [
        {
          "output_type": "execute_result",
          "data": {
            "text/plain": [
              "Parameter containing:\n",
              "tensor([[ 1.4049,  1.1072,  0.0209,  ..., -1.2360,  1.1851,  0.4857],\n",
              "        [ 1.4811,  1.0616, -0.4657,  ...,  0.5322,  1.2349, -0.3953],\n",
              "        [-0.2923,  0.6413,  0.0794,  ..., -0.8081,  0.5210,  1.2567],\n",
              "        ...,\n",
              "        [-0.5328,  0.3570,  1.5646,  ..., -2.2611,  0.6199,  1.7104],\n",
              "        [-0.9419,  0.8590, -0.6451,  ...,  0.0575, -2.5537,  2.0043],\n",
              "        [ 0.1693, -0.7429, -0.6274,  ..., -0.0635,  2.3105, -1.1733]],\n",
              "       requires_grad=True)"
            ]
          },
          "metadata": {},
          "execution_count": 18
        }
      ]
    },
    {
      "cell_type": "code",
      "source": [
        "#문제 3번          #3번 문제부터는 아직 해결하지 못했습니다 ㅠㅠ 계속해서 시도해보겠습니다!\n",
        "\n",
        "# Loss fn - Cross Entropy Loss\n",
        "criterion = # 구현\n",
        "\n",
        "# optimizer - SGD\n",
        "optimizer = # 구현"
      ],
      "metadata": {
        "colab": {
          "base_uri": "https://localhost:8080/",
          "height": 137
        },
        "id": "HAaw4IJJkvjK",
        "outputId": "1f554c82-1236-47a1-9210-f8160215fa46"
      },
      "execution_count": 9,
      "outputs": [
        {
          "output_type": "error",
          "ename": "SyntaxError",
          "evalue": "ignored",
          "traceback": [
            "\u001b[0;36m  File \u001b[0;32m\"<ipython-input-9-29e46273c2c6>\"\u001b[0;36m, line \u001b[0;32m4\u001b[0m\n\u001b[0;31m    criterion = # 구현\u001b[0m\n\u001b[0m                ^\u001b[0m\n\u001b[0;31mSyntaxError\u001b[0m\u001b[0;31m:\u001b[0m invalid syntax\n"
          ]
        }
      ]
    },
    {
      "cell_type": "code",
      "source": [
        "#문제 4번\n",
        "\n",
        "for epoch in range(training_epochs):\n",
        "    for i, (imgs, labels) in enumerate(train_loader):\n",
        "    imgs, labels = imgs.to(device), labels.to(device)\n",
        "    imgs = imgs.view(-1, 28 28)\n",
        "\n",
        "    outputs # 구현\n",
        "    loss # 구현\n",
        "\n",
        "    optimizer.# optimzier zero grad 구현\n",
        "    loss.# loss backward 구현\n",
        "    optimizer.# optimzier step 구현\n",
        "\n",
        "    _,argmax = torch.max(outputs, 1)\n",
        "    accuracy = (labels == argmax).float().mean()\n",
        "\n",
        "    if (i+1) % 100 == 0:\n",
        "        print('Epoch [{}/{}], Step [{}/{}], Loss: {: .4f}, Accuracy: {: .2f}%'.format(\n",
        "            epoch+1, training_epochs, i+1, len(train_loader), loss.item(), accuracy.item()* 100))"
      ],
      "metadata": {
        "colab": {
          "base_uri": "https://localhost:8080/",
          "height": 137
        },
        "id": "qesKIoTMk-fa",
        "outputId": "dea0f8f0-06d0-48f3-da8c-4213f927a9d4"
      },
      "execution_count": 10,
      "outputs": [
        {
          "output_type": "error",
          "ename": "IndentationError",
          "evalue": "ignored",
          "traceback": [
            "\u001b[0;36m  File \u001b[0;32m\"<ipython-input-10-3507db11ee6e>\"\u001b[0;36m, line \u001b[0;32m5\u001b[0m\n\u001b[0;31m    imgs, labels = imgs.to(device), labels.to(device)\u001b[0m\n\u001b[0m    ^\u001b[0m\n\u001b[0;31mIndentationError\u001b[0m\u001b[0;31m:\u001b[0m expected an indented block\n"
          ]
        }
      ]
    },
    {
      "cell_type": "code",
      "source": [
        "#문제 5번\n",
        "\n",
        "linear.eval()\n",
        "with torch.no_grad():\n",
        "    correct 0\n",
        "    total = 0\n",
        "    for i, (imgs, labels) in enumerate(test_loader):\n",
        "        imgs, labels = imgs.to(device), labels.to(device)\n",
        "        imgs = imgs.view(-1, 28 * 28)\n",
        "\n",
        "        outputs # 구현\n",
        "\n",
        "        _, argmax = torch.max(outputs, 1) # max()를 통해 최종 출력이 가장 높은 class 선택\n",
        "        total += imgs.size(0)\n",
        "        correct += (labels == argmax). sum().item()\n",
        "\n",
        "    print('Test accuracy for {} images: {: .2f}%'.format(total, correct / total * 100))"
      ],
      "metadata": {
        "colab": {
          "base_uri": "https://localhost:8080/",
          "height": 137
        },
        "id": "MR972J6Ili-h",
        "outputId": "9e81d80a-a322-481f-bb03-da731934d9b3"
      },
      "execution_count": 11,
      "outputs": [
        {
          "output_type": "error",
          "ename": "SyntaxError",
          "evalue": "ignored",
          "traceback": [
            "\u001b[0;36m  File \u001b[0;32m\"<ipython-input-11-015e37d51f7f>\"\u001b[0;36m, line \u001b[0;32m5\u001b[0m\n\u001b[0;31m    correct 0\u001b[0m\n\u001b[0m            ^\u001b[0m\n\u001b[0;31mSyntaxError\u001b[0m\u001b[0;31m:\u001b[0m invalid syntax\n"
          ]
        }
      ]
    }
  ]
}